{
 "cells": [
  {
   "cell_type": "code",
   "execution_count": null,
   "id": "52261353",
   "metadata": {},
   "outputs": [],
   "source": [
    "from functools import wraps\n",
    "import time\n",
    "\n",
    "def count_time(func):\n",
    "    @wraps(func)\n",
    "    def wrapper(*args, **kargs):\n",
    "        start = time.perf_counter()\n",
    "        result = func(*args, **kargs)\n",
    "        elapsed_time = time.perf_counter() - start\n",
    "        print(f\"{func.__name__}は{elapsed_time}秒かかりました\")\n",
    "        return result\n",
    "    return wrapper\n",
    "\n",
    "@count_time\n",
    "def use_loop(lst, interval):\n",
    "    train_data = []\n",
    "    result = []\n",
    "    \n",
    "    for i in range(len(lst)):\n",
    "        if i < interval:\n",
    "            continue\n",
    "        result.append(lst[i])\n",
    "        train_data_sub = []\n",
    "        for p in range(interval):\n",
    "            d = i + p - interval\n",
    "            train_data_sub.append(lst[d])\n",
    "        train_data.append(train_data_sub)\n",
    "    return (train_data, result)\n",
    "\n",
    "@count_time\n",
    "def use_slice(lst, interval):\n",
    "    train_data = []\n",
    "    result = []\n",
    "\n",
    "    for i in range(interval, len(lst)):\n",
    "        result.append(lst[i])\n",
    "        train_data.append(lst[i-6:i])\n",
    "    return (train_data, result)\n",
    "\n",
    "\n",
    "sample_list = [f\"t{i}\" for i in range(100000)]\n",
    "\n",
    "train_x, train_y = use_loop(sample_list, 6)\n",
    "train_x, train_y = use_slice(sample_list, 6)"
   ]
  }
 ],
 "metadata": {
  "kernelspec": {
   "display_name": "machine_learning",
   "language": "python",
   "name": "machine_learning"
  },
  "language_info": {
   "codemirror_mode": {
    "name": "ipython",
    "version": 3
   },
   "file_extension": ".py",
   "mimetype": "text/x-python",
   "name": "python",
   "nbconvert_exporter": "python",
   "pygments_lexer": "ipython3",
   "version": "3.9.4"
  }
 },
 "nbformat": 4,
 "nbformat_minor": 5
}
